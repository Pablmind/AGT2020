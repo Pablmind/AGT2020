{
 "cells": [
  {
   "cell_type": "code",
   "execution_count": 53,
   "metadata": {},
   "outputs": [],
   "source": [
    "import matplotlib.pyplot as plt\n",
    "import numpy as np"
   ]
  },
  {
   "cell_type": "code",
   "execution_count": 134,
   "metadata": {},
   "outputs": [
    {
     "data": {
      "image/png": "[encoded data removed]",
      "text/plain": [
       "<Figure size 432x288 with 1 Axes>"
      ]
     },
     "metadata": {},
     "output_type": "display_data"
    }
   ],
   "source": [
    "class graphAGT:\n",
    "    def __init__(self, A, if_multiGraph = False, if_diGraph = False):\n",
    "        self.adjacency_matrix = np.array(A) \n",
    "        \n",
    "    def get_A(self, t: int) -> np.array:\n",
    "        A = np.array(self.adjacency_matrix)\n",
    "        return np.linalg.matrix_power(A, t)\n",
    "        \n",
    "    def visualize(self):\n",
    "        edges = []\n",
    "        \n",
    "        for i in range(len(self.adjacency_matrix)):\n",
    "            for j in range(len(self.adjacency_matrix)):\n",
    "                if self.adjacency_matrix[i][j] > 0: \n",
    "                    for k in range(self.adjacency_matrix[i][j]):\n",
    "                        edges.append([i,j])\n",
    "                    \n",
    "        G = nx.MultiDiGraph()\n",
    "        G.add_edges_from(edges) \n",
    "        nx.draw_networkx(G, pos = nx.planar_layout(G), connectionstyle='arc3, rad = 0.05')\n",
    "        plt.show() \n",
    "        \n",
    "A = graphAGT([[1,1,0],[0,0,0],[0,1,0]])\n",
    "A.visualize()"
   ]
  },
  {
   "cell_type": "code",
   "execution_count": null,
   "metadata": {},
   "outputs": [],
   "source": []
  }
 ],
 "metadata": {
  "kernelspec": {
   "display_name": "Python 3",
   "language": "python",
   "name": "python3"
  },
  "language_info": {
   "codemirror_mode": {
    "name": "ipython",
    "version": 3
   },
   "file_extension": ".py",
   "mimetype": "text/x-python",
   "name": "python",
   "nbconvert_exporter": "python",
   "pygments_lexer": "ipython3",
   "version": "3.7.9"
  }
 },
 "nbformat": 4,
 "nbformat_minor": 4
}
