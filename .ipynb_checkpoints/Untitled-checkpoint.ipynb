{
 "cells": [
  {
   "cell_type": "code",
   "execution_count": 1,
   "metadata": {
    "ExecuteTime": {
     "end_time": "2020-10-29T16:13:03.485910Z",
     "start_time": "2020-10-29T16:13:02.783011Z"
    }
   },
   "outputs": [],
   "source": [
    "import matplotlib.pyplot as plt\n",
    "import numpy as np\n",
    "import networkx as nx\n",
    "from sympy import *"
   ]
  },
  {
   "cell_type": "code",
   "execution_count": 97,
   "metadata": {
    "ExecuteTime": {
     "end_time": "2020-10-29T16:59:28.306444Z",
     "start_time": "2020-10-29T16:59:28.143676Z"
    }
   },
   "outputs": [
    {
     "data": {
      "image/png": "[encoded data removed]",
      "text/plain": [
       "<Figure size 432x288 with 1 Axes>"
      ]
     },
     "metadata": {},
     "output_type": "display_data"
    },
    {
     "name": "stdout",
     "output_type": "stream",
     "text": [
      "Матрица путей длины 2:\n"
     ]
    },
    {
     "data": {
      "text/latex": [
       "$\\displaystyle \\left[\\begin{matrix}x_{12} x_{21} & 0 & x_{12} x_{23}\\\\0 & x_{21} x_{12} + x_{23} x_{32} & 0\\\\x_{32} x_{21} & 0 & x_{32} x_{23}\\end{matrix}\\right]$"
      ],
      "text/plain": [
       "Matrix([\n",
       "[x12*x21,                 0, x12*x23],\n",
       "[      0, x21*x12 + x23*x32,       0],\n",
       "[x32*x21,                 0, x32*x23]])"
      ]
     },
     "metadata": {},
     "output_type": "display_data"
    },
    {
     "name": "stdout",
     "output_type": "stream",
     "text": [
      "Пути из 1 в 1:\n",
      "1->2->1\n",
      "--------------------\n",
      "Пути из 1 в 3:\n",
      "1->2->3\n",
      "--------------------\n",
      "Пути из 2 в 2:\n",
      "2->1->2\n",
      "2->3->2\n",
      "--------------------\n",
      "Пути из 3 в 1:\n",
      "3->2->1\n",
      "--------------------\n",
      "Пути из 3 в 3:\n",
      "3->2->3\n",
      "--------------------\n"
     ]
    }
   ],
   "source": [
    "class graph:\n",
    "    def __init__(self, A):\n",
    "        self.adjacency_matrix = np.array(A)\n",
    "        \n",
    "    \n",
    "    def show_A(self, t: int) -> np.array:\n",
    "        '''\n",
    "        Метод вычисляет и выводит t-ую степень\n",
    "        матрицы смежности.\n",
    "        \n",
    "        '''\n",
    "        \n",
    "        A = np.array(self.adjacency_matrix)\n",
    "        return np.linalg.matrix_power(A, t)\n",
    "    \n",
    "    def show_paths(self, t: int):\n",
    "        '''\n",
    "        Заменяем значения матрицы на переменные и \n",
    "        символьно вычисляем t-ую степень.\n",
    "        Выводим все полученные пути.\n",
    "        \n",
    "        '''\n",
    "            \n",
    "        #Переводим матрицу смежности в нужный формат для sympy\n",
    "        A = self.__convert_to_2d_list()\n",
    "        \n",
    "        #Заменяем единицы на переменные x_ij\n",
    "        #Важно сделать переменные некоммутативными для сохранения порядка\n",
    "        for i in range(len(A)):\n",
    "            for j in range(len(A)):\n",
    "                if A[i][j] == 1: A[i][j] = symbols('x' + str(i+1) + str(j+1), commutative=False)\n",
    "                    \n",
    "        #Символьно вычисляем t-ую степень\n",
    "        A = Matrix(A) ** t\n",
    "        \n",
    "        #Раскрываем скобки в выражениях\n",
    "        for i in range(len(np.array(A))):\n",
    "            for j in range(len(np.array(A))):\n",
    "                A[i,j] = expand(A[i,j])\n",
    "        \n",
    "        print(f'Матрица путей длины {t}:')\n",
    "        display(A)\n",
    "            \n",
    "        B = np.array(A)\n",
    "        \n",
    "        for i in range(len(B)):\n",
    "            for j in range(len(B)):\n",
    "                if B[i,j] != 0: \n",
    "                    \n",
    "                    #каждый элемент матрицы разбиваем по плюсу\n",
    "                    #получаем все пути из i в j\n",
    "                    paths = str(B[i,j]).split('+')\n",
    "                    \n",
    "                    print(f'Пути из {i+1} в {j+1}:')\n",
    "                    \n",
    "                    #Выводим каждый путь в более читаемом формате\n",
    "                    for path in paths:\n",
    "                        path = path.strip()\n",
    "                        if_first = True\n",
    "                        path_str = \"\"\n",
    "                        while(len(path)>2):\n",
    "                            if if_first: \n",
    "                                path_str += path[1] + '->' + path[2] \n",
    "                                if_first = False\n",
    "                            else:\n",
    "                                path_str += '->' + path[2]\n",
    "                            \n",
    "                            path = path[4:]\n",
    "                        print(path_str)\n",
    "                    print('-'*20)\n",
    "            \n",
    "        \n",
    "    def show_graph(self):\n",
    "        '''\n",
    "        По матрице смежности вычисляем ребра\n",
    "        и выводим граф с помощью networkx\n",
    "        \n",
    "        '''\n",
    "        \n",
    "        edges = []\n",
    "        \n",
    "        for i in range(len(self.adjacency_matrix)):\n",
    "            for j in range(len(self.adjacency_matrix)):\n",
    "                if self.adjacency_matrix[i][j] > 0: \n",
    "                    for k in range(self.adjacency_matrix[i][j]):\n",
    "                        edges.append([i+1,j+1])\n",
    "                    \n",
    "        G = nx.Graph()\n",
    "        G.add_edges_from(edges) \n",
    "        nx.draw_networkx(G, pos = nx.planar_layout(G), connectionstyle='arc3, rad = 0.05')\n",
    "        plt.show() \n",
    "        \n",
    "    def __convert_to_2d_list(self):\n",
    "        '''\n",
    "        Функция переводит матрицу смежности в нужный формат\n",
    "        для библиотеки sympy.\n",
    "        '''\n",
    "        \n",
    "        A = []\n",
    "        for elem in self.adjacency_matrix:\n",
    "            A.append(list(elem));\n",
    "        return A;\n",
    "        \n",
    "A = graph([[0,1,0],[1,0,1],[0,1,0]])\n",
    "A.show_graph()\n",
    "A.show_paths(2)"
   ]
  },
  {
   "cell_type": "code",
   "execution_count": null,
   "metadata": {},
   "outputs": [],
   "source": []
  }
 ],
 "metadata": {
  "kernelspec": {
   "display_name": "Python 3",
   "language": "python",
   "name": "python3"
  },
  "language_info": {
   "codemirror_mode": {
    "name": "ipython",
    "version": 3
   },
   "file_extension": ".py",
   "mimetype": "text/x-python",
   "name": "python",
   "nbconvert_exporter": "python",
   "pygments_lexer": "ipython3",
   "version": "3.8.5"
  },
  "latex_envs": {
   "LaTeX_envs_menu_present": true,
   "autoclose": false,
   "autocomplete": true,
   "bibliofile": "biblio.bib",
   "cite_by": "apalike",
   "current_citInitial": 1,
   "eqLabelWithNumbers": true,
   "eqNumInitial": 1,
   "hotkeys": {
    "equation": "Ctrl-E",
    "itemize": "Ctrl-I"
   },
   "labels_anchors": false,
   "latex_user_defs": false,
   "report_style_numbering": false,
   "user_envs_cfg": false
  },
  "varInspector": {
   "cols": {
    "lenName": 16,
    "lenType": 16,
    "lenVar": 40
   },
   "kernels_config": {
    "python": {
     "delete_cmd_postfix": "",
     "delete_cmd_prefix": "del ",
     "library": "var_list.py",
     "varRefreshCmd": "print(var_dic_list())"
    },
    "r": {
     "delete_cmd_postfix": ") ",
     "delete_cmd_prefix": "rm(",
     "library": "var_list.r",
     "varRefreshCmd": "cat(var_dic_list()) "
    }
   },
   "types_to_exclude": [
    "module",
    "function",
    "builtin_function_or_method",
    "instance",
    "_Feature"
   ],
   "window_display": false
  }
 },
 "nbformat": 4,
 "nbformat_minor": 4
}
